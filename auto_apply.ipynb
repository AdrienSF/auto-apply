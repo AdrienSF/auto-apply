{
 "cells": [
  {
   "cell_type": "code",
   "execution_count": null,
   "metadata": {},
   "outputs": [],
   "source": [
    "from auto_apply import AutoApply"
   ]
  },
  {
   "cell_type": "code",
   "execution_count": null,
   "metadata": {},
   "outputs": [],
   "source": [
    "auto_app = AutoApply(folder_name='file_templates')"
   ]
  },
  {
   "cell_type": "code",
   "execution_count": null,
   "metadata": {},
   "outputs": [],
   "source": [
    "jobs = auto_app.filter_jobs(auto_app.load_jobs()) # load previously scraped but unseen jobs\n",
    "if not jobs: # if no unseen scraped jobs, scrape new jobs\n",
    "    indeed_search_urls = [\n",
    "        'https://www.indeed.com/jobs?q=natural+language+processing+NLP&l=&salaryType=%24155%2C000&vjk=633c49e23e0a1144',\n",
    "        # 'https://www.indeed.com/jobs?q=Natural+language+processing+NLP&l=San+Francisco%2C+CA&radius=0',\n",
    "        ]\n",
    "    jobs = auto_app.filter_jobs(auto_app.get_jobs(indeed_search_urls))\n",
    "    # might need to click on things while scraping or it could get stuck waiting for your action\n",
    "    # better to keep chrome tab active (may help prove you are human)"
   ]
  },
  {
   "cell_type": "code",
   "execution_count": null,
   "metadata": {},
   "outputs": [],
   "source": [
    "# or, scrape job descriptions from a list of job page urls\n",
    "# for url in urls:\n",
    "#     auto_app.scrape_job(url)\n",
    "\n",
    "# or, navigate to a job application portal and scrape job(s)\n",
    "auto_app.scrape_job(auto_app.driver.current_url)"
   ]
  },
  {
   "cell_type": "code",
   "execution_count": null,
   "metadata": {},
   "outputs": [],
   "source": [
    "# view job descriptions in chrome\n",
    "viewed_jobs = auto_app.view_jobs(auto_app.filter_jobs(jobs))"
   ]
  },
  {
   "cell_type": "code",
   "execution_count": null,
   "metadata": {},
   "outputs": [],
   "source": [
    "auto_app.load_answers() # reload form answers if they've changed"
   ]
  },
  {
   "cell_type": "code",
   "execution_count": null,
   "metadata": {},
   "outputs": [],
   "source": [
    "# stop viewing new jobs, navigate to application portal, run this on every form page\n",
    "auto_app.autofill_current_page()"
   ]
  },
  {
   "cell_type": "code",
   "execution_count": null,
   "metadata": {},
   "outputs": [],
   "source": [
    "# after succesful application to the last viewed job, it can be logged\n",
    "auto_app.log_applied([viewed_jobs[-1]])"
   ]
  },
  {
   "cell_type": "code",
   "execution_count": null,
   "metadata": {},
   "outputs": [],
   "source": [
    "auto_app.close()"
   ]
  }
 ],
 "metadata": {
  "kernelspec": {
   "display_name": ".env",
   "language": "python",
   "name": "python3"
  },
  "language_info": {
   "codemirror_mode": {
    "name": "ipython",
    "version": 3
   },
   "file_extension": ".py",
   "mimetype": "text/x-python",
   "name": "python",
   "nbconvert_exporter": "python",
   "pygments_lexer": "ipython3",
   "version": "3.10.12"
  }
 },
 "nbformat": 4,
 "nbformat_minor": 2
}
